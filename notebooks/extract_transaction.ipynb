{
 "cells": [
  {
   "cell_type": "code",
   "execution_count": 190,
   "metadata": {},
   "outputs": [],
   "source": [
    "import fitz  # PyMuPDF\n",
    "from PIL import Image\n",
    "import pytesseract\n",
    "import io\n",
    "import pandas as pd\n",
    "from datetime import datetime"
   ]
  },
  {
   "cell_type": "code",
   "execution_count": 37,
   "metadata": {},
   "outputs": [],
   "source": [
    "#CONST\n",
    "CATEGORIES = ['Date & Time', 'Source/Destination', 'Transaction Details', 'Notes', 'Amount', 'Balance']\n",
    "PDF_PATH = '../data/transaction/Jago_Main Pocket_History.pdf'\n",
    "EOF_CONST = 'PT Bank Jago Tbk is licensed and supervised by Financial Services Authority (OJK), Bank Indonesia, and'"
   ]
  },
  {
   "cell_type": "code",
   "execution_count": 108,
   "metadata": {},
   "outputs": [
    {
     "data": {
      "text/plain": [
       "['Date & Time', 'Source/Destination', 'Transaction Details']"
      ]
     },
     "execution_count": 108,
     "metadata": {},
     "output_type": "execute_result"
    }
   ],
   "source": [
    "CATEGORIES[:3]"
   ]
  },
  {
   "cell_type": "code",
   "execution_count": 109,
   "metadata": {},
   "outputs": [
    {
     "data": {
      "text/plain": [
       "0"
      ]
     },
     "execution_count": 109,
     "metadata": {},
     "output_type": "execute_result"
    }
   ],
   "source": [
    "CATEGORIES.index('Date & Time')"
   ]
  },
  {
   "cell_type": "code",
   "execution_count": 184,
   "metadata": {},
   "outputs": [],
   "source": [
    "def read_pdf(pdf_path=PDF_PATH):\n",
    "    return fitz.open(pdf_path)\n",
    "def get_pdf_pages(pdf_document):\n",
    "    pages = []\n",
    "    for page_num in range(pdf_document.page_count):\n",
    "        page = pdf_document.load_page(page_num)\n",
    "        pages.append(page)\n",
    "    return pages\n",
    "def find_ROI(pdf_page):\n",
    "    roi_pos = {}\n",
    "    page = pdf_page.get_text(\"dict\")\n",
    "    # roi_pos['width'] = page['width']\n",
    "    # roi_pos['height'] = page['height']\n",
    "    # Iterate through blocks of text\n",
    "    for block in page[\"blocks\"]:\n",
    "        if \"lines\" in block:\n",
    "            for line in block[\"lines\"]:\n",
    "                for span in line[\"spans\"]:\n",
    "                    text = span['text']\n",
    "                    if text in CATEGORIES:\n",
    "                        roi_pos[text] = span['bbox']\n",
    "                    if EOF_CONST in text:\n",
    "                        roi_pos['EOF'] = span['bbox']\n",
    "    return roi_pos\n",
    "def post_process_roi(roi_pos):\n",
    "    for i,cat in enumerate(CATEGORIES):\n",
    "        if cat in CATEGORIES[:3]:\n",
    "            #new x_end = next category x_start -5 just to differentiate a little\n",
    "            roi_pos[cat]=(roi_pos[cat][0], roi_pos[cat][1], roi_pos[CATEGORIES[CATEGORIES.index(cat)+1]][0]-5, roi_pos[cat][3])\n",
    "        if cat == 'Notes':\n",
    "            #new x_end = (x_end skrg+ x_start selanjutnya)/2\n",
    "            new_val = (roi_pos[cat][2]+roi_pos[CATEGORIES[CATEGORIES.index(cat)+1]][0])/2\n",
    "            roi_pos[cat]=(roi_pos[cat][0], roi_pos[cat][1], new_val, roi_pos[cat][3])\n",
    "        if cat == 'Amount':\n",
    "            #new x_start = (x_start skrg+ x_start sebelumnya)/2\n",
    "            new_val = (roi_pos[cat][0]+roi_pos[CATEGORIES[CATEGORIES.index(cat)-1]][2])/2\n",
    "            roi_pos[cat]=(new_val, roi_pos[cat][1], roi_pos[cat][2], roi_pos[cat][3])\n",
    "        if cat == 'Balance':\n",
    "            #new x_start = previous x_end +5 just to differentiate a little\n",
    "            roi_pos[cat]=(roi_pos[CATEGORIES[CATEGORIES.index(cat)-1]][2]+5, roi_pos[cat][1], roi_pos[cat][2], roi_pos[cat][3])\n",
    "    return roi_pos\n",
    "def crop_image(roi_pos):\n",
    "    # Extract text from each ROI\n",
    "    all_crop = {}\n",
    "    for key, bbox in roi_pos.items():\n",
    "        if key != 'EOF':\n",
    "            #Find ROI\n",
    "            crop_pos= (bbox[0], bbox[1], bbox[2], roi_pos['EOF'][1])\n",
    "            # Crop the image to the ROI\n",
    "            cropped_image = image.crop(crop_pos)\n",
    "            all_crop[key] = cropped_image\n",
    "    return all_crop"
   ]
  },
  {
   "cell_type": "markdown",
   "metadata": {},
   "source": [
    "need to post-process the date, because we need the y-start of each date to process the other categories"
   ]
  },
  {
   "cell_type": "code",
   "execution_count": 192,
   "metadata": {},
   "outputs": [],
   "source": [
    "def extract_date_df(cropped_image):\n",
    "    #get y_start and text\n",
    "    ocr_data = pytesseract.image_to_data(cropped_image, output_type=pytesseract.Output.DICT)\n",
    "    all_texts = []\n",
    "    all_y_start = []\n",
    "    # Extract text and bounding boxes\n",
    "    for i in range(len(ocr_data['level'])):\n",
    "        (x, y, w, h) = (ocr_data['left'][i], ocr_data['top'][i], ocr_data['width'][i], ocr_data['height'][i])\n",
    "        text = ocr_data['text'][i]\n",
    "        conf = int(ocr_data['conf'][i])\n",
    "\n",
    "        if conf > 0:  # Filter out low-confidence results\n",
    "            all_texts.append(text)\n",
    "            all_y_start.append(y)\n",
    "            #print(f\"Text: {text}, BBox: ({x}, {y}, {x+w}, {y+h}), Confidence: {conf}\")\n",
    "    data = {\n",
    "        'text' : all_texts,\n",
    "        'y_start' : all_y_start\n",
    "    }\n",
    "    df = pd.DataFrame(data)\n",
    "    df = df.groupby('y_start').agg(lambda x:' '.join(x)).reset_index()\n",
    "    return df"
   ]
  },
  {
   "cell_type": "code",
   "execution_count": 194,
   "metadata": {},
   "outputs": [],
   "source": [
    "#filter so it only hold valid date\n",
    "def post_process_date_df(df):\n",
    "    # Function to validate and convert date\n",
    "    def validate_and_convert_date(date_str):\n",
    "        try:\n",
    "            # Try to parse the date\n",
    "            date = datetime.strptime(date_str, '%d %b %Y')\n",
    "            # Convert to the desired format\n",
    "            return date.strftime('%d/%m/%Y')\n",
    "        except ValueError:\n",
    "            # Return None if the date is invalid\n",
    "            return None\n",
    "    # Apply the function to the date column\n",
    "    df['date'] = df['text'].apply(validate_and_convert_date)\n",
    "\n",
    "    # Filter out rows with invalid dates\n",
    "    valid_dates_df = df[df['date'].notna()]\n",
    "    return valid_dates_df.drop(columns='text')"
   ]
  },
  {
   "cell_type": "code",
   "execution_count": 185,
   "metadata": {},
   "outputs": [],
   "source": [
    "pdf_file = read_pdf()\n",
    "pdf_pages = get_pdf_pages(pdf_file)\n",
    "roi_pos = find_ROI(pdf_pages[0])\n",
    "roi_pos = post_process_roi(roi_pos)\n",
    "all_crop = crop_image(roi_pos)"
   ]
  },
  {
   "cell_type": "code",
   "execution_count": 195,
   "metadata": {},
   "outputs": [
    {
     "data": {
      "text/html": [
       "<div>\n",
       "<style scoped>\n",
       "    .dataframe tbody tr th:only-of-type {\n",
       "        vertical-align: middle;\n",
       "    }\n",
       "\n",
       "    .dataframe tbody tr th {\n",
       "        vertical-align: top;\n",
       "    }\n",
       "\n",
       "    .dataframe thead th {\n",
       "        text-align: right;\n",
       "    }\n",
       "</style>\n",
       "<table border=\"1\" class=\"dataframe\">\n",
       "  <thead>\n",
       "    <tr style=\"text-align: right;\">\n",
       "      <th></th>\n",
       "      <th>y_start</th>\n",
       "      <th>date</th>\n",
       "    </tr>\n",
       "  </thead>\n",
       "  <tbody>\n",
       "    <tr>\n",
       "      <th>2</th>\n",
       "      <td>138</td>\n",
       "      <td>16/02/2024</td>\n",
       "    </tr>\n",
       "    <tr>\n",
       "      <th>4</th>\n",
       "      <td>278</td>\n",
       "      <td>16/02/2024</td>\n",
       "    </tr>\n",
       "    <tr>\n",
       "      <th>6</th>\n",
       "      <td>382</td>\n",
       "      <td>16/02/2024</td>\n",
       "    </tr>\n",
       "    <tr>\n",
       "      <th>8</th>\n",
       "      <td>486</td>\n",
       "      <td>16/02/2024</td>\n",
       "    </tr>\n",
       "    <tr>\n",
       "      <th>10</th>\n",
       "      <td>618</td>\n",
       "      <td>18/02/2024</td>\n",
       "    </tr>\n",
       "    <tr>\n",
       "      <th>12</th>\n",
       "      <td>722</td>\n",
       "      <td>18/02/2024</td>\n",
       "    </tr>\n",
       "    <tr>\n",
       "      <th>14</th>\n",
       "      <td>862</td>\n",
       "      <td>18/02/2024</td>\n",
       "    </tr>\n",
       "    <tr>\n",
       "      <th>16</th>\n",
       "      <td>1002</td>\n",
       "      <td>19/02/2024</td>\n",
       "    </tr>\n",
       "    <tr>\n",
       "      <th>18</th>\n",
       "      <td>1134</td>\n",
       "      <td>19/02/2024</td>\n",
       "    </tr>\n",
       "    <tr>\n",
       "      <th>20</th>\n",
       "      <td>1271</td>\n",
       "      <td>20/02/2024</td>\n",
       "    </tr>\n",
       "    <tr>\n",
       "      <th>22</th>\n",
       "      <td>1375</td>\n",
       "      <td>20/02/2024</td>\n",
       "    </tr>\n",
       "    <tr>\n",
       "      <th>24</th>\n",
       "      <td>1507</td>\n",
       "      <td>21/02/2024</td>\n",
       "    </tr>\n",
       "    <tr>\n",
       "      <th>26</th>\n",
       "      <td>1611</td>\n",
       "      <td>21/02/2024</td>\n",
       "    </tr>\n",
       "    <tr>\n",
       "      <th>28</th>\n",
       "      <td>1715</td>\n",
       "      <td>21/02/2024</td>\n",
       "    </tr>\n",
       "  </tbody>\n",
       "</table>\n",
       "</div>"
      ],
      "text/plain": [
       "    y_start        date\n",
       "2       138  16/02/2024\n",
       "4       278  16/02/2024\n",
       "6       382  16/02/2024\n",
       "8       486  16/02/2024\n",
       "10      618  18/02/2024\n",
       "12      722  18/02/2024\n",
       "14      862  18/02/2024\n",
       "16     1002  19/02/2024\n",
       "18     1134  19/02/2024\n",
       "20     1271  20/02/2024\n",
       "22     1375  20/02/2024\n",
       "24     1507  21/02/2024\n",
       "26     1611  21/02/2024\n",
       "28     1715  21/02/2024"
      ]
     },
     "execution_count": 195,
     "metadata": {},
     "output_type": "execute_result"
    }
   ],
   "source": [
    "date_df = extract_date_df(all_crop['Date & Time'])\n",
    "date_df = post_process_date_df(date_df)\n",
    "date_df"
   ]
  },
  {
   "cell_type": "markdown",
   "metadata": {},
   "source": [
    "process the other Source/Destination category"
   ]
  },
  {
   "cell_type": "markdown",
   "metadata": {},
   "source": []
  }
 ],
 "metadata": {
  "kernelspec": {
   "display_name": ".venv",
   "language": "python",
   "name": "python3"
  },
  "language_info": {
   "codemirror_mode": {
    "name": "ipython",
    "version": 3
   },
   "file_extension": ".py",
   "mimetype": "text/x-python",
   "name": "python",
   "nbconvert_exporter": "python",
   "pygments_lexer": "ipython3",
   "version": "3.11.9"
  }
 },
 "nbformat": 4,
 "nbformat_minor": 2
}
